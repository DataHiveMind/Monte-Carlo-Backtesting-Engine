{
 "cells": [
  {
   "cell_type": "markdown",
   "metadata": {},
   "source": [
    "# 1. Import Required Libraries"
   ]
  },
  {
   "cell_type": "code",
   "execution_count": null,
   "metadata": {},
   "outputs": [],
   "source": [
    "# Importing libraries\n",
    "import pandas as pd\n",
    "import numpy as np\n",
    "import matplotlib.pyplot as plt\n",
    "import seaborn as sns\n",
    "from utils.metrics import Metrics\n",
    "\n",
    "sns.set(style=\"whitegrid\")\n",
    "%matplotlib inline\n",
    "\n",
    "# Set global plot settings\n",
    "plt.rcParams[\"figure.figsize\"] = (12, 6)\n"
   ]
  },
  {
   "cell_type": "markdown",
   "metadata": {},
   "source": [
    "# 2. Load Backtest Results"
   ]
  },
  {
   "cell_type": "code",
   "execution_count": null,
   "metadata": {},
   "outputs": [],
   "source": [
    "# Load the backtest results (update the file path as needed)\n",
    "file_path = \"data/output/backtest_results.csv\"\n",
    "results = pd.read_csv(file_path, parse_dates=[\"date\"])\n",
    "\n",
    "# Display first few rows of the results\n",
    "print(results.head())\n"
   ]
  },
  {
   "cell_type": "markdown",
   "metadata": {},
   "source": [
    "# 3. Visualize Portfolio Value Over Time"
   ]
  },
  {
   "cell_type": "code",
   "execution_count": null,
   "metadata": {},
   "outputs": [],
   "source": [
    "# Plot portfolio value over time\n",
    "plt.figure(figsize=(12, 6))\n",
    "plt.plot(results[\"date\"], results[\"portfolio_value\"], label=\"Portfolio Value\", color=\"blue\")\n",
    "plt.title(\"Portfolio Value Over Time\")\n",
    "plt.xlabel(\"Date\")\n",
    "plt.ylabel(\"Portfolio Value\")\n",
    "plt.legend()\n",
    "plt.show()\n"
   ]
  },
  {
   "cell_type": "markdown",
   "metadata": {},
   "source": [
    "# 4. Calculate and Plot Cumulative Returns"
   ]
  },
  {
   "cell_type": "code",
   "execution_count": null,
   "metadata": {},
   "outputs": [],
   "source": [
    "# Calculate cumulative returns\n",
    "portfolio_values = results[\"portfolio_value\"].values\n",
    "cumulative_returns = Metrics.calculate_cumulative_returns(portfolio_values)\n",
    "\n",
    "# Plot cumulative returns\n",
    "plt.figure(figsize=(12, 6))\n",
    "plt.plot(results[\"date\"], cumulative_returns, label=\"Cumulative Returns\", color=\"green\")\n",
    "plt.title(\"Cumulative Returns Over Time\")\n",
    "plt.xlabel(\"Date\")\n",
    "plt.ylabel(\"Cumulative Returns\")\n",
    "plt.legend()\n",
    "plt.show()\n"
   ]
  },
  {
   "cell_type": "markdown",
   "metadata": {},
   "source": [
    "# 5. Key Performance Metrics"
   ]
  },
  {
   "cell_type": "code",
   "execution_count": null,
   "metadata": {},
   "outputs": [],
   "source": [
    "# Calculate performance metrics\n",
    "annualized_return = Metrics.calculate_annualized_return(portfolio_values, len(results))\n",
    "annualized_volatility = Metrics.calculate_annualized_volatility(portfolio_values)\n",
    "sharpe_ratio = Metrics.calculate_sharpe_ratio(portfolio_values)\n",
    "max_drawdown = Metrics.calculate_max_drawdown(portfolio_values)\n",
    "\n",
    "# Display metrics\n",
    "print(\"Performance Metrics:\")\n",
    "print(f\"Annualized Return: {annualized_return:.2%}\")\n",
    "print(f\"Annualized Volatility: {annualized_volatility:.2%}\")\n",
    "print(f\"Sharpe Ratio: {sharpe_ratio:.2f}\")\n",
    "print(f\"Maximum Drawdown: {max_drawdown:.2%}\")\n"
   ]
  },
  {
   "cell_type": "markdown",
   "metadata": {},
   "source": [
    "# 6. Drawdown Analysis"
   ]
  },
  {
   "cell_type": "code",
   "execution_count": null,
   "metadata": {},
   "outputs": [],
   "source": [
    "# Plot drawdown over time\n",
    "results[\"cumulative_max\"] = results[\"portfolio_value\"].cummax()\n",
    "results[\"drawdown\"] = (results[\"portfolio_value\"] - results[\"cumulative_max\"]) / results[\"cumulative_max\"]\n",
    "\n",
    "plt.figure(figsize=(12, 6))\n",
    "plt.plot(results[\"date\"], results[\"drawdown\"], label=\"Drawdown\", color=\"red\")\n",
    "plt.fill_between(results[\"date\"], results[\"drawdown\"], 0, color=\"red\", alpha=0.3)\n",
    "plt.title(\"Drawdown Over Time\")\n",
    "plt.xlabel(\"Date\")\n",
    "plt.ylabel(\"Drawdown\")\n",
    "plt.legend()\n",
    "plt.show()\n"
   ]
  },
  {
   "cell_type": "markdown",
   "metadata": {},
   "source": [
    "# 7. Compare Strategy Performance "
   ]
  },
  {
   "cell_type": "code",
   "execution_count": null,
   "metadata": {},
   "outputs": [],
   "source": [
    "# Assuming we have multiple strategies' results in the same DataFrame\n",
    "# Example structure: 'portfolio_value_strategy1', 'portfolio_value_strategy2'\n",
    "\n",
    "plt.figure(figsize=(12, 6))\n",
    "plt.plot(results[\"date\"], results[\"portfolio_value_strategy1\"], label=\"Strategy 1\", color=\"blue\")\n",
    "plt.plot(results[\"date\"], results[\"portfolio_value_strategy2\"], label=\"Strategy 2\", color=\"orange\")\n",
    "plt.title(\"Strategy Performance Comparison\")\n",
    "plt.xlabel(\"Date\")\n",
    "plt.ylabel(\"Portfolio Value\")\n",
    "plt.legend()\n",
    "plt.show()\n"
   ]
  },
  {
   "cell_type": "markdown",
   "metadata": {},
   "source": [
    "# 8. Save Insights"
   ]
  },
  {
   "cell_type": "code",
   "execution_count": null,
   "metadata": {},
   "outputs": [],
   "source": [
    "# Save key metrics to a CSV file for record-keeping\n",
    "metrics = {\n",
    "    \"Annualized Return\": annualized_return,\n",
    "    \"Annualized Volatility\": annualized_volatility,\n",
    "    \"Sharpe Ratio\": sharpe_ratio,\n",
    "    \"Maximum Drawdown\": max_drawdown\n",
    "}\n",
    "metrics_df = pd.DataFrame([metrics])\n",
    "metrics_df.to_csv(\"data/output/performance_metrics.csv\", index=False)\n",
    "print(\"Performance metrics saved to data/output/performance_metrics.csv.\")\n"
   ]
  }
 ],
 "metadata": {
  "kernelspec": {
   "display_name": ".venv",
   "language": "python",
   "name": "python3"
  },
  "language_info": {
   "name": "python",
   "version": "3.12.3"
  }
 },
 "nbformat": 4,
 "nbformat_minor": 2
}
