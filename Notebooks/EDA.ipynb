{
 "cells": [
  {
   "cell_type": "markdown",
   "metadata": {},
   "source": [
    "# 1. Importing Required Libraries"
   ]
  },
  {
   "cell_type": "code",
   "execution_count": null,
   "metadata": {},
   "outputs": [],
   "source": [
    "# Importing libraries\n",
    "%pip install pandas numpy matplotlib seaborn\n",
    "import pandas as pd\n",
    "import numpy as np\n",
    "import matplotlib.pyplot as plt\n",
    "import seaborn as sns\n",
    "sns.set(style=\"whitegrid\")\n",
    "\n",
    "# Display settings\n",
    "%matplotlib inline\n",
    "plt.rcParams[\"figure.figsize\"] = (12, 6)\n"
   ]
  },
  {
   "cell_type": "markdown",
   "metadata": {},
   "source": [
    "# 2. Loading Data"
   ]
  },
  {
   "cell_type": "code",
   "execution_count": null,
   "metadata": {},
   "outputs": [],
   "source": [
    "# Load data (adjust file_path to the location of your CSV file)\n",
    "file_path = \"data/input/historical_data.csv\"\n",
    "date_column = \"Date\"\n",
    "price_column = \"Close\"\n",
    "\n",
    "# Read and preprocess data\n",
    "data = pd.read_csv(file_path)\n",
    "data[date_column] = pd.to_datetime(data[date_column])\n",
    "data.set_index(date_column, inplace=True)\n",
    "data = data.rename(columns={price_column: \"close\"})\n",
    "\n",
    "# Display first few rows\n",
    "print(data.head())\n"
   ]
  },
  {
   "cell_type": "markdown",
   "metadata": {},
   "source": [
    "# 3. Summary Statistics"
   ]
  },
  {
   "cell_type": "code",
   "execution_count": null,
   "metadata": {},
   "outputs": [],
   "source": [
    "# Summary statistics for the data\n",
    "print(\"Summary Statistics:\")\n",
    "print(data.describe())\n",
    "\n",
    "# Check for missing values\n",
    "missing_values = data.isnull().sum()\n",
    "print(\"\\nMissing Values:\\n\", missing_values)\n"
   ]
  },
  {
   "cell_type": "markdown",
   "metadata": {},
   "source": [
    "# 4. Visualizing the Closing Price"
   ]
  },
  {
   "cell_type": "code",
   "execution_count": null,
   "metadata": {},
   "outputs": [],
   "source": [
    "# Line plot of closing prices\n",
    "plt.figure(figsize=(12, 6))\n",
    "plt.plot(data.index, data[\"close\"], label=\"Closing Price\", color=\"blue\")\n",
    "plt.title(\"Time Series of Closing Prices\")\n",
    "plt.xlabel(\"Date\")\n",
    "plt.ylabel(\"Price\")\n",
    "plt.legend()\n",
    "plt.show()\n"
   ]
  },
  {
   "cell_type": "markdown",
   "metadata": {},
   "source": [
    "# 5. Rolling Statistics"
   ]
  },
  {
   "cell_type": "code",
   "execution_count": null,
   "metadata": {},
   "outputs": [],
   "source": [
    "# Add rolling means\n",
    "data[\"short_ma\"] = data[\"close\"].rolling(window=20).mean()\n",
    "data[\"long_ma\"] = data[\"close\"].rolling(window=50).mean()\n",
    "\n",
    "# Plot rolling means\n",
    "plt.figure(figsize=(12, 6))\n",
    "plt.plot(data.index, data[\"close\"], label=\"Closing Price\", alpha=0.6)\n",
    "plt.plot(data.index, data[\"short_ma\"], label=\"20-Day MA\", color=\"orange\")\n",
    "plt.plot(data.index, data[\"long_ma\"], label=\"50-Day MA\", color=\"red\")\n",
    "plt.title(\"Closing Price with Moving Averages\")\n",
    "plt.xlabel(\"Date\")\n",
    "plt.ylabel(\"Price\")\n",
    "plt.legend()\n",
    "plt.show()\n"
   ]
  },
  {
   "cell_type": "markdown",
   "metadata": {},
   "source": [
    "# 6. Daily Returns"
   ]
  },
  {
   "cell_type": "code",
   "execution_count": null,
   "metadata": {},
   "outputs": [],
   "source": [
    "# Calculate daily returns\n",
    "data[\"daily_returns\"] = data[\"close\"].pct_change()\n",
    "\n",
    "# Plot histogram of daily returns\n",
    "plt.figure(figsize=(12, 6))\n",
    "sns.histplot(data[\"daily_returns\"].dropna(), kde=True, bins=50, color=\"green\")\n",
    "plt.title(\"Distribution of Daily Returns\")\n",
    "plt.xlabel(\"Daily Returns\")\n",
    "plt.ylabel(\"Frequency\")\n",
    "plt.show()\n"
   ]
  },
  {
   "cell_type": "markdown",
   "metadata": {},
   "source": [
    "# 7. Correlation Analysis"
   ]
  },
  {
   "cell_type": "code",
   "execution_count": null,
   "metadata": {},
   "outputs": [],
   "source": [
    "# Correlation heatmap (if additional columns like volume or other features exist)\n",
    "correlation_matrix = data.corr()\n",
    "sns.heatmap(correlation_matrix, annot=True, cmap=\"coolwarm\", fmt=\".2f\")\n",
    "plt.title(\"Correlation Heatmap\")\n",
    "plt.show()\n"
   ]
  },
  {
   "cell_type": "markdown",
   "metadata": {},
   "source": [
    "# 8. Maximum Drawdown Analysis"
   ]
  },
  {
   "cell_type": "code",
   "execution_count": null,
   "metadata": {},
   "outputs": [],
   "source": [
    "# Calculate cumulative returns and drawdowns\n",
    "data[\"cumulative_returns\"] = (1 + data[\"daily_returns\"]).cumprod()\n",
    "data[\"cumulative_max\"] = data[\"cumulative_returns\"].cummax()\n",
    "data[\"drawdown\"] = (data[\"cumulative_returns\"] - data[\"cumulative_max\"]) / data[\"cumulative_max\"]\n",
    "\n",
    "# Plot drawdowns\n",
    "plt.figure(figsize=(12, 6))\n",
    "plt.plot(data.index, data[\"drawdown\"], label=\"Drawdown\", color=\"red\")\n",
    "plt.fill_between(data.index, data[\"drawdown\"], 0, color=\"red\", alpha=0.3)\n",
    "plt.title(\"Drawdown Over Time\")\n",
    "plt.xlabel(\"Date\")\n",
    "plt.ylabel(\"Drawdown\")\n",
    "plt.legend()\n",
    "plt.show()\n"
   ]
  },
  {
   "cell_type": "markdown",
   "metadata": {},
   "source": [
    "# 9. Save Preprocessed Data"
   ]
  },
  {
   "cell_type": "code",
   "execution_count": null,
   "metadata": {},
   "outputs": [],
   "source": [
    "# Save the enriched dataset with rolling statistics, daily returns, etc.\n",
    "output_path = \"data/output/preprocessed_data.csv\"\n",
    "data.to_csv(output_path)\n",
    "print(f\"Preprocessed data saved to {output_path}.\")\n"
   ]
  },
  {
   "cell_type": "code",
   "execution_count": null,
   "metadata": {},
   "outputs": [],
   "source": []
  },
  {
   "cell_type": "code",
   "execution_count": null,
   "metadata": {},
   "outputs": [],
   "source": []
  }
 ],
 "metadata": {
  "kernelspec": {
   "display_name": ".venv",
   "language": "python",
   "name": "python3"
  },
  "language_info": {
   "name": "python",
   "version": "3.12.3"
  }
 },
 "nbformat": 4,
 "nbformat_minor": 2
}
